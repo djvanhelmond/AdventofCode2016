{
 "cells": [
  {
   "cell_type": "code",
   "execution_count": 1,
   "metadata": {
    "collapsed": true
   },
   "outputs": [],
   "source": [
    "#!/usr/local/bin/python3\n",
    "import numpy"
   ]
  },
  {
   "cell_type": "code",
   "execution_count": 2,
   "metadata": {
    "collapsed": false
   },
   "outputs": [],
   "source": [
    "def read_input_moves(filename):\n",
    "    # read all the lines from the input file into a list and return the list\n",
    "    content = []\n",
    "    with open(filename) as input_file:\n",
    "        for lines in input_file:\n",
    "            content.append(lines)\n",
    "    return content\n",
    "INPUT = (read_input_moves('./input'))"
   ]
  },
  {
   "cell_type": "code",
   "execution_count": 195,
   "metadata": {
    "collapsed": false
   },
   "outputs": [],
   "source": [
    "class instruct:\n",
    "    def __init__(self, instruction):\n",
    "        self.instruction = instruction.split()\n",
    "        # 0) \"rect \"\n",
    "        # 1) \"rotate row y=\"\n",
    "        # 2) \"rotate column x=\"\n",
    "        if self.instruction[0] == \"rect\":\n",
    "            self.action = 0\n",
    "            self.register = int(self.instruction[1].split(\"x\")[0])\n",
    "            self.shift = int(self.instruction[1].split(\"x\")[1])\n",
    "\n",
    "        if self.instruction[0] == \"rotate\":\n",
    "            if self.instruction[1] == \"column\":\n",
    "                self.action = 1\n",
    "                self.register = int(self.instruction[2][2:])\n",
    "                self.shift = int(self.instruction[4])\n",
    "\n",
    "            if self.instruction[1] == \"row\":\n",
    "                self.action = 2\n",
    "                self.register = int(self.instruction[2][2:])\n",
    "                self.shift = int(self.instruction[4])\n",
    "                \n",
    "    def action(self):\n",
    "        return self.action\n",
    "\n",
    "    def register(self):\n",
    "        return self.register\n",
    "\n",
    "    def shift(self):\n",
    "        return self.shift\n",
    "\n",
    "\n",
    "class screen:\n",
    "    def __init__(self, width, height):\n",
    "        self.width = width\n",
    "        self.height = height\n",
    "        self.pixels = numpy.zeros((self.height, self.width), dtype=bool)\n",
    "\n",
    "    def show(self):\n",
    "        for i in range(0, self.height):\n",
    "            line = []\n",
    "            for j in range(0, self.width):\n",
    "                if self.pixels[i, j]:\n",
    "                    line.append(\"#\")\n",
    "                else:\n",
    "                    line.append(\".\")\n",
    "            print(''.join(line))\n",
    "    \n",
    "    def countpixel(self):\n",
    "        return sum([ self.pixels[i,j] for i in range(0, self.height) for j in range(0, self.width) ])\n",
    "\n",
    "    def rect(self, width, height):\n",
    "        for i in range(0, height):\n",
    "            for j in range(0, width):\n",
    "                self.pixels[i,j] = not(self.pixels[i,j])\n",
    "\n",
    "    def rotx(self, column, shift):\n",
    "        for _ in range(0, shift):\n",
    "            store = self.pixels[-1,column]\n",
    "            for i in reversed(range(1, self.height)):\n",
    "                    self.pixels[i,column] = self.pixels[i-1,column]\n",
    "            self.pixels[0,column] = store\n",
    "\n",
    "    def roty(self, row, shift):\n",
    "        for _ in range(0, shift):\n",
    "            store = self.pixels[row, -1]\n",
    "            for j in reversed(range(1, self.width)):\n",
    "                self.pixels[row,j] = self.pixels[row,j-1]\n",
    "            self.pixels[row, 0] = store\n",
    "            \n",
    "    def execute(self, n):\n",
    "        if n.action == 0:\n",
    "            self.rect(n.register, n.shift)\n",
    "        if n.action == 1:\n",
    "            self.rotx(n.register, n.shift)\n",
    "        if n.action == 2:\n",
    "            self.roty(n.register, n.shift)            "
   ]
  },
  {
   "cell_type": "code",
   "execution_count": 197,
   "metadata": {
    "collapsed": false
   },
   "outputs": [
    {
     "name": "stdout",
     "output_type": "stream",
     "text": [
      "####..##...##..###...##..###..#..#.#...#.##...##..\n",
      "#....#..#.#..#.#..#.#..#.#..#.#..#.#...##..#.#..#.\n",
      "###..#..#.#..#.#..#.#....#..#.####..#.#.#..#.#..#.\n",
      "#....#..#.####.###..#.##.###..#..#...#..####.#..#.\n",
      "#....#..#.#..#.#.#..#..#.#....#..#...#..#..#.#..#.\n",
      "####..##..#..#.#..#..###.#....#..#...#..#..#..##..\n",
      "Star 1:  128\n"
     ]
    }
   ],
   "source": [
    "def star1(instruction_list):\n",
    "    s = screen(50, 6)\n",
    "    instructions = [ instruct(instruction) for instruction in instruction_list ]\n",
    "    for n in instructions:\n",
    "        s.execute(n)\n",
    "    s.show()\n",
    "    return s.countpixel()\n",
    "        \n",
    "print(\"Star 1: \", star1(INPUT))\n",
    "\n",
    "\n"
   ]
  },
  {
   "cell_type": "code",
   "execution_count": null,
   "metadata": {
    "collapsed": false
   },
   "outputs": [],
   "source": [
    "Star 2: EOARGPHYAO"
   ]
  },
  {
   "cell_type": "code",
   "execution_count": null,
   "metadata": {
    "collapsed": true
   },
   "outputs": [],
   "source": []
  }
 ],
 "metadata": {
  "kernelspec": {
   "display_name": "Python 3",
   "language": "python",
   "name": "python3"
  },
  "language_info": {
   "codemirror_mode": {
    "name": "ipython",
    "version": 3
   },
   "file_extension": ".py",
   "mimetype": "text/x-python",
   "name": "python",
   "nbconvert_exporter": "python",
   "pygments_lexer": "ipython3",
   "version": "3.5.2"
  }
 },
 "nbformat": 4,
 "nbformat_minor": 0
}
