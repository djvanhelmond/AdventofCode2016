{
 "cells": [
  {
   "cell_type": "code",
   "execution_count": 37,
   "metadata": {
    "collapsed": true
   },
   "outputs": [],
   "source": [
    "#!/usr/local/bin/python3\n",
    "import numpy"
   ]
  },
  {
   "cell_type": "code",
   "execution_count": 38,
   "metadata": {
    "collapsed": false
   },
   "outputs": [],
   "source": [
    "def read_input_moves(filename):\n",
    "    content = []\n",
    "    with open(filename) as input_file:\n",
    "        for lines in input_file:\n",
    "            content.append(lines)\n",
    "    return content\n",
    "INPUT = (read_input_moves('./input'))"
   ]
  },
  {
   "cell_type": "code",
   "execution_count": 39,
   "metadata": {
    "collapsed": false
   },
   "outputs": [],
   "source": [
    "class instruct:\n",
    "    def __init__(self, instruction):\n",
    "        self.instruction = instruction.split()\n",
    "        self.action = self.instruction[0]\n",
    "        if self.instruction[0] == \"rect\":\n",
    "            self.register = int(self.instruction[1].split(\"x\")[0])\n",
    "            self.shift = int(self.instruction[1].split(\"x\")[1])\n",
    "        else:\n",
    "            self.action = self.instruction[1]\n",
    "            self.register = int(self.instruction[2][2:])\n",
    "            self.shift = int(self.instruction[4])\n",
    "                \n",
    "    def action(self):\n",
    "        return self.action\n",
    "\n",
    "    def register(self):\n",
    "        return self.register\n",
    "\n",
    "    def shift(self):\n",
    "        return self.shift\n",
    "\n",
    "\n",
    "class screen:\n",
    "    def __init__(self, width, height):\n",
    "        self.width = width\n",
    "        self.height = height\n",
    "        self.pixels = numpy.zeros((self.height, self.width), dtype=bool)\n",
    "\n",
    "    def show(self):\n",
    "        for i in range(0, self.height):\n",
    "            line = []\n",
    "            for j in range(0, self.width):\n",
    "                if self.pixels[i, j]:\n",
    "                    line.append(\"#\")\n",
    "                else:\n",
    "                    line.append(\".\")\n",
    "            print(''.join(line))\n",
    "    \n",
    "    def countpixel(self):\n",
    "        return sum([ self.pixels[i,j] for i in range(0, self.height) for j in range(0, self.width) ])\n",
    "\n",
    "    def rect(self, width, height):\n",
    "        self.pixels[:height, :width] = True\n",
    "\n",
    "    def rotx(self, row, shift):\n",
    "        self.pixels[:,row] = numpy.roll(self.pixels[:,row], shift)\n",
    "            \n",
    "    def roty(self, column, shift):\n",
    "        self.pixels[column] = numpy.roll(self.pixels[column], shift)\n",
    "            \n",
    "    def execute(self, n):\n",
    "        if n.action == \"rect\":\n",
    "            self.rect(n.register, n.shift)\n",
    "        if n.action == \"column\":\n",
    "            self.rotx(n.register, n.shift)\n",
    "        if n.action == \"row\":\n",
    "            self.roty(n.register, n.shift)            "
   ]
  },
  {
   "cell_type": "code",
   "execution_count": 40,
   "metadata": {
    "collapsed": false
   },
   "outputs": [
    {
     "name": "stdout",
     "output_type": "stream",
     "text": [
      "####..##...##..###...##..###..#..#.#...#.##...##..\n",
      "#....#..#.#..#.#..#.#..#.#..#.#..#.#...##..#.#..#.\n",
      "###..#..#.#..#.#..#.#....#..#.####..#.#.#..#.#..#.\n",
      "#....#..#.####.###..#.##.###..#..#...#..####.#..#.\n",
      "#....#..#.#..#.#.#..#..#.#....#..#...#..#..#.#..#.\n",
      "####..##..#..#.#..#..###.#....#..#...#..#..#..##..\n",
      "Star 1:  128\n"
     ]
    }
   ],
   "source": [
    "def star1(instruction_list):\n",
    "    small_screen = screen(50, 6)\n",
    "    instructions = [ instruct(instruction) for instruction in instruction_list ]\n",
    "    for step in instructions:\n",
    "        small_screen.execute(step)\n",
    "    small_screen.show()\n",
    "    return small_screen.countpixel()\n",
    "        \n",
    "print(\"Star 1: \", star1(INPUT))\n",
    "\n",
    "\n"
   ]
  },
  {
   "cell_type": "code",
   "execution_count": null,
   "metadata": {
    "collapsed": false
   },
   "outputs": [],
   "source": [
    "Star 2: EOARGPHYAO"
   ]
  },
  {
   "cell_type": "code",
   "execution_count": null,
   "metadata": {
    "collapsed": true
   },
   "outputs": [],
   "source": []
  }
 ],
 "metadata": {
  "kernelspec": {
   "display_name": "Python 3",
   "language": "python",
   "name": "python3"
  },
  "language_info": {
   "codemirror_mode": {
    "name": "ipython",
    "version": 3
   },
   "file_extension": ".py",
   "mimetype": "text/x-python",
   "name": "python",
   "nbconvert_exporter": "python",
   "pygments_lexer": "ipython3",
   "version": "3.5.2"
  }
 },
 "nbformat": 4,
 "nbformat_minor": 0
}
