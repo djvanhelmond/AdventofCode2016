{
 "cells": [
  {
   "cell_type": "code",
   "execution_count": 37,
   "metadata": {
    "collapsed": true
   },
   "outputs": [],
   "source": [
    "#!/usr/local/bin/python3\n",
    "import numpy"
   ]
  },
  {
   "cell_type": "code",
   "execution_count": 38,
   "metadata": {
    "collapsed": false
   },
   "outputs": [],
   "source": [
    "def read_input_moves(filename):\n",
    "    content = []\n",
    "    with open(filename) as input_file:\n",
    "        for lines in input_file:\n",
    "            content.append(lines)\n",
    "    return content\n",
    "INPUT = (read_input_moves('./input'))"
   ]
  },
  {
   "cell_type": "code",
   "execution_count": 91,
   "metadata": {
    "collapsed": false
   },
   "outputs": [],
   "source": [
    "class instruct:\n",
    "    def __init__(self, instruction):\n",
    "        self.instruction = instruction.split()\n",
    "        self.action = self.instruction[0]\n",
    "        if self.instruction[0] == \"rect\":\n",
    "            self.register = int(self.instruction[1].split(\"x\")[0])\n",
    "            self.shift = int(self.instruction[1].split(\"x\")[1])\n",
    "        else:\n",
    "            self.action = self.instruction[1]\n",
    "            self.register = int(self.instruction[2][2:])\n",
    "            self.shift = int(self.instruction[4])\n",
    "                \n",
    "    def action(self):\n",
    "        return self.action\n",
    "\n",
    "    def register(self):\n",
    "        return self.register\n",
    "\n",
    "    def shift(self):\n",
    "        return self.shift\n",
    "\n",
    "\n",
    "class screen:\n",
    "    def __init__(self, width, height):\n",
    "        self.width = width\n",
    "        self.height = height\n",
    "        self.pixels = numpy.zeros((self.height, self.width), dtype=bool)\n",
    "\n",
    "    def show_char(self, char):\n",
    "        return ''.join([ \"1\" if self.pixels[i, j] else \"0\" \n",
    "                        for i in range(0, self.height) for j in range(char*5, char*5+5) ])\n",
    "            \n",
    "    def countpixel(self):\n",
    "        return sum([ self.pixels[i,j] for i in range(0, self.height) for j in range(0, self.width) ])\n",
    "\n",
    "    def rect(self, width, height):\n",
    "        self.pixels[:height, :width] = True\n",
    "\n",
    "    def rotx(self, column, shift):\n",
    "        self.pixels[:,column] = numpy.roll(self.pixels[:,column], shift)\n",
    "            \n",
    "    def roty(self, row, shift):\n",
    "        self.pixels[row] = numpy.roll(self.pixels[row], shift)\n",
    "            \n",
    "    def execute(self, instruction):\n",
    "        if instruction.action == \"rect\":\n",
    "            self.rect(instruction.register, instruction.shift)\n",
    "        if instruction.action == \"column\":\n",
    "            self.rotx(instruction.register, instruction.shift)\n",
    "        if instruction.action == \"row\":\n",
    "            self.roty(instruction.register, instruction.shift)            "
   ]
  },
  {
   "cell_type": "code",
   "execution_count": 92,
   "metadata": {
    "collapsed": false
   },
   "outputs": [
    {
     "name": "stdout",
     "output_type": "stream",
     "text": [
      "Star 1:  128\n"
     ]
    }
   ],
   "source": [
    "def star1(instruction_list, width, height):\n",
    "    small_screen = screen(width, height)\n",
    "    instructions = [ instruct(instruction) for instruction in instruction_list ]\n",
    "    for step in instructions:\n",
    "        small_screen.execute(step)\n",
    "    return small_screen.countpixel()\n",
    "        \n",
    "print(\"Star 1: \", star1(INPUT, 50, 6))"
   ]
  },
  {
   "cell_type": "code",
   "execution_count": 93,
   "metadata": {
    "collapsed": false
   },
   "outputs": [
    {
     "name": "stdout",
     "output_type": "stream",
     "text": [
      "Star 2:  EOARGPHYAO\n"
     ]
    }
   ],
   "source": [
    "ocr = {\n",
    "    \"011001001010010111101001010010\": \"A\",\n",
    "    \"111101000011100100001000011110\": \"E\",\n",
    "    \"011001001010000101101001001110\": \"G\",\n",
    "    \"100101001011110100101001010010\": \"H\",\n",
    "    \"011001001010010100101001001100\": \"O\",\n",
    "    \"111001001010010111001000010000\": \"P\",\n",
    "    \"111001001010010111001010010010\": \"R\",\n",
    "    \"100011000101010001000010000100\": \"Y\"\n",
    "}\n",
    "\n",
    "def star2(instruction_list, width, height):\n",
    "    code = []\n",
    "    small_screen = screen(width, height)\n",
    "    instructions = [ instruct(instruction) for instruction in instruction_list ]\n",
    "    for step in instructions:\n",
    "        small_screen.execute(step)\n",
    "    for n in range(width // 5):\n",
    "        code.append(ocr[small_screen.show_char(n)])\n",
    "    return ''.join(code)\n",
    "\n",
    "print(\"Star 2: \", star2(INPUT, 50, 6))"
   ]
  },
  {
   "cell_type": "code",
   "execution_count": null,
   "metadata": {
    "collapsed": true
   },
   "outputs": [],
   "source": []
  }
 ],
 "metadata": {
  "kernelspec": {
   "display_name": "Python 3",
   "language": "python",
   "name": "python3"
  },
  "language_info": {
   "codemirror_mode": {
    "name": "ipython",
    "version": 3
   },
   "file_extension": ".py",
   "mimetype": "text/x-python",
   "name": "python",
   "nbconvert_exporter": "python",
   "pygments_lexer": "ipython3",
   "version": "3.5.2"
  }
 },
 "nbformat": 4,
 "nbformat_minor": 0
}
