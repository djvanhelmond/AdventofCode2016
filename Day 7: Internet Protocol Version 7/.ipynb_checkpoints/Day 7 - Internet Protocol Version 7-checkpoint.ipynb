{
 "cells": [
  {
   "cell_type": "code",
   "execution_count": 32,
   "metadata": {
    "collapsed": true
   },
   "outputs": [],
   "source": [
    "#!/usr/local/bin/python3"
   ]
  },
  {
   "cell_type": "code",
   "execution_count": 33,
   "metadata": {
    "collapsed": false
   },
   "outputs": [],
   "source": [
    "def read_input_moves(filename):\n",
    "    # read all the lines from the input file into a list and return the list\n",
    "    content = []\n",
    "    with open(filename) as input_file:\n",
    "        for lines in input_file:\n",
    "            content.append(lines)\n",
    "    return content\n",
    "INPUT = (read_input_moves('./input'))"
   ]
  },
  {
   "cell_type": "code",
   "execution_count": 34,
   "metadata": {
    "collapsed": false
   },
   "outputs": [],
   "source": [
    "def match_abba(pattern):\n",
    "    if len(pattern) < 4:\n",
    "        return False\n",
    "    p = [None, None, None, None]\n",
    "    for c in pattern:\n",
    "        p.pop(0)\n",
    "        p.append(c)\n",
    "        if (p[0] == p[3] and p[1] == p[2] and p[0] != p[1]):\n",
    "            return True\n",
    "    return False\n",
    "\n",
    "def find_aba_inverse(pattern):\n",
    "    abas = []\n",
    "    if len(pattern) < 3:\n",
    "        return False\n",
    "    p = [None, None, None]\n",
    "    for c in pattern:\n",
    "        p.pop(0)\n",
    "        p.append(c)\n",
    "        if (p[0] == p[2] and p[0] != p[1]):\n",
    "            q = [p[1], p[0], p[1]]\n",
    "            abas.append(''.join(q))\n",
    "    return abas\n",
    "    \n",
    "class IPv7address:\n",
    "    def __init__(self, address_string):\n",
    "        self.supernet_sequences = []\n",
    "        self.hypernet_sequences = []\n",
    "        netname = []\n",
    "        for char in address_string:\n",
    "            if (char.isalpha()):\n",
    "                netname.append(char)\n",
    "            else:\n",
    "                if char == \"]\":\n",
    "                    self.hypernet_sequences.append(''.join(netname))\n",
    "                    netname = []\n",
    "                else:\n",
    "                    self.supernet_sequences.append(''.join(netname))\n",
    "                    netname = []\n",
    "\n",
    "                    \n",
    "    def supports_tls(self):\n",
    "        supernet_ok = any([ match_abba(supernet) for supernet in self.supernet_sequences ])\n",
    "        hypernet_ok = not(any([ match_abba(hypernet) for hypernet in self.hypernet_sequences ]))\n",
    "        return (supernet_ok and hypernet_ok)\n",
    "\n",
    "    def supports_ssl(self):\n",
    "        babs = []\n",
    "        for sn in self.supernet_sequences:\n",
    "            babs.extend(find_aba_inverse(sn))\n",
    "        return any([n itn p for n in babs for p in self.hypernet_sequences])"
   ]
  },
  {
   "cell_type": "code",
   "execution_count": 35,
   "metadata": {
    "collapsed": false
   },
   "outputs": [
    {
     "name": "stdout",
     "output_type": "stream",
     "text": [
      "Star 1:  105\n"
     ]
    }
   ],
   "source": [
    "def star1(address_list):\n",
    "    addresses = [ IPv7address(address) for address in address_list ]\n",
    "    return sum([address.supports_tls() for address in addresses])\n",
    "\n",
    "print(\"Star 1: \", star1(INPUT))"
   ]
  },
  {
   "cell_type": "code",
   "execution_count": 36,
   "metadata": {
    "collapsed": false
   },
   "outputs": [
    {
     "name": "stdout",
     "output_type": "stream",
     "text": [
      "Star 2:  258\n"
     ]
    }
   ],
   "source": [
    "def star2(address_list):\n",
    "    addresses = [ IPv7address(address) for address in address_list ]\n",
    "    return sum([address.supports_ssl() for address in addresses])\n",
    "\n",
    "print(\"Star 2: \", star2(INPUT))"
   ]
  },
  {
   "cell_type": "code",
   "execution_count": null,
   "metadata": {
    "collapsed": true
   },
   "outputs": [],
   "source": []
  }
 ],
 "metadata": {
  "kernelspec": {
   "display_name": "Python 3",
   "language": "python",
   "name": "python3"
  },
  "language_info": {
   "codemirror_mode": {
    "name": "ipython",
    "version": 3
   },
   "file_extension": ".py",
   "mimetype": "text/x-python",
   "name": "python",
   "nbconvert_exporter": "python",
   "pygments_lexer": "ipython3",
   "version": "3.5.2"
  }
 },
 "nbformat": 4,
 "nbformat_minor": 0
}
