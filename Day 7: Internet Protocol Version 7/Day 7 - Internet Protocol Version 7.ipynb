{
 "cells": [
  {
   "cell_type": "code",
   "execution_count": 237,
   "metadata": {
    "collapsed": true
   },
   "outputs": [],
   "source": [
    "#!/usr/local/bin/python3\n",
    "import re"
   ]
  },
  {
   "cell_type": "code",
   "execution_count": 238,
   "metadata": {
    "collapsed": false
   },
   "outputs": [],
   "source": [
    "def read_input_moves(filename):\n",
    "    # read all the lines from the input file into a list and return the list\n",
    "    content = []\n",
    "    with open(filename) as input_file:\n",
    "        for lines in input_file:\n",
    "            content.append(lines)\n",
    "    return content\n",
    "INPUT = (read_input_moves('./input'))"
   ]
  },
  {
   "cell_type": "code",
   "execution_count": 239,
   "metadata": {
    "collapsed": false
   },
   "outputs": [],
   "source": [
    "def match_abba(pattern):\n",
    "    if len(pattern) < 4:\n",
    "        return False\n",
    "    p = [None, None, None, None]\n",
    "    for c in pattern:\n",
    "        p.pop(0)\n",
    "        p.append(c)\n",
    "        if (p[0] == p[3] and p[1] == p[2] and p[0] != p[1]):\n",
    "            return True\n",
    "    return False\n",
    "    \n",
    "\n",
    "class IPv7address:\n",
    "    def __init__(self, address_string):\n",
    "        self.full_string = address_string\n",
    "        self.all_address = []\n",
    "        self.all_hypernet = []\n",
    "\n",
    "        hyper = False\n",
    "        key = []\n",
    "        for c in address_string:\n",
    "            if (c.isalpha()):\n",
    "                key.append(c)\n",
    "            else:\n",
    "                if hyper:\n",
    "                    hyper = False\n",
    "                    self.all_hypernet.append(''.join(key))\n",
    "                    key = []\n",
    "                else:\n",
    "                    hyper = True\n",
    "                    self.all_address.append(''.join(key))\n",
    "                    key = []\n",
    "\n",
    "                    \n",
    "    def print(self):\n",
    "        print(\"full:\", self.full_string)\n",
    "        print(\"addresses:\", self.all_address)\n",
    "        print(\"nets:\", self.all_hypernet)\n",
    "    \n",
    "    def supports_tls(self):\n",
    "        add_check = any([ match_abba(a) for a in self.all_address ])\n",
    "        net_check = not(any([ match_abba(n) for n in self.all_hypernet ]))\n",
    "#        print (\"addresses: \", add_check)\n",
    "#        print (\"nets: \", net_check)\n",
    "        return (add_check and net_check)\n"
   ]
  },
  {
   "cell_type": "code",
   "execution_count": 240,
   "metadata": {
    "collapsed": false
   },
   "outputs": [],
   "source": [
    "addresses = [ IPv7address(address) for address in INPUT ]"
   ]
  },
  {
   "cell_type": "code",
   "execution_count": 241,
   "metadata": {
    "collapsed": false
   },
   "outputs": [
    {
     "name": "stdout",
     "output_type": "stream",
     "text": [
      "105\n"
     ]
    }
   ],
   "source": [
    "sum = 0\n",
    "#print (len(addresses))\n",
    "for address in addresses:\n",
    "#    print(address.print())\n",
    "#    print(address.supports_tls())\n",
    "    if address.supports_tls():\n",
    "#        address.print()\n",
    "        sum +=1\n",
    "#    print (\"------\")\n",
    "        \n",
    "print(sum)"
   ]
  },
  {
   "cell_type": "code",
   "execution_count": null,
   "metadata": {
    "collapsed": true
   },
   "outputs": [],
   "source": []
  }
 ],
 "metadata": {
  "kernelspec": {
   "display_name": "Python 3",
   "language": "python",
   "name": "python3"
  },
  "language_info": {
   "codemirror_mode": {
    "name": "ipython",
    "version": 3
   },
   "file_extension": ".py",
   "mimetype": "text/x-python",
   "name": "python",
   "nbconvert_exporter": "python",
   "pygments_lexer": "ipython3",
   "version": "3.5.2"
  }
 },
 "nbformat": 4,
 "nbformat_minor": 0
}
