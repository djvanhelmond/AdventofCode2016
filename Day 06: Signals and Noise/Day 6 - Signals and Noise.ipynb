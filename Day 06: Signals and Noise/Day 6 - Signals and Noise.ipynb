{
 "cells": [
  {
   "cell_type": "code",
   "execution_count": 42,
   "metadata": {
    "collapsed": true
   },
   "outputs": [],
   "source": [
    "#!/usr/local/bin/python3\n",
    "from collections import Counter"
   ]
  },
  {
   "cell_type": "code",
   "execution_count": 43,
   "metadata": {
    "collapsed": false
   },
   "outputs": [],
   "source": [
    "def read_input_moves(filename):\n",
    "    # read all the lines from the input file into a list and return the list\n",
    "    content = []\n",
    "    with open(filename) as input_file:\n",
    "        for lines in input_file:\n",
    "            content.append(lines)\n",
    "    return content\n",
    "INPUT = (read_input_moves('./input'))"
   ]
  },
  {
   "cell_type": "code",
   "execution_count": 44,
   "metadata": {
    "collapsed": false
   },
   "outputs": [],
   "source": [
    "def getchar(mangled_list, position):\n",
    "    value = []\n",
    "    for entry in mangled_list:\n",
    "        value.append(entry[position])\n",
    "    return ''.join(value)"
   ]
  },
  {
   "cell_type": "code",
   "execution_count": 86,
   "metadata": {
    "collapsed": false
   },
   "outputs": [],
   "source": [
    "def gethighestoccurrence(input_string):\n",
    "    return Counter(input_string).most_common(1)[0][0]\n",
    "\n",
    "def getlowestoccurrence(input_string):\n",
    "    return list(reversed(Counter(input_string).most_common()))[0][0]"
   ]
  },
  {
   "cell_type": "code",
   "execution_count": 87,
   "metadata": {
    "collapsed": false
   },
   "outputs": [
    {
     "name": "stdout",
     "output_type": "stream",
     "text": [
      "Star 1:  kjxfwkdh\n",
      "\n"
     ]
    }
   ],
   "source": [
    "def star1(mangled_list):\n",
    "    star = []\n",
    "    idx = 0\n",
    "    while idx < len(mangled_list[0]):\n",
    "        star.append(gethighestoccurrence(getchar(mangled_list, idx)))\n",
    "        idx += 1\n",
    "    return ''.join(star)\n",
    "\n",
    "\n",
    "print(\"Star 1: \", star1(INPUT))"
   ]
  },
  {
   "cell_type": "code",
   "execution_count": 88,
   "metadata": {
    "collapsed": false
   },
   "outputs": [
    {
     "name": "stdout",
     "output_type": "stream",
     "text": [
      "Star 2:  xrwcsnps\n",
      "\n"
     ]
    }
   ],
   "source": [
    "def star2(mangled_list):\n",
    "    star = []\n",
    "    idx = 0\n",
    "    while idx < len(mangled_list[0]):\n",
    "        star.append(getlowestoccurrence(getchar(mangled_list, idx)))\n",
    "        idx += 1\n",
    "    return ''.join(star)\n",
    "\n",
    "\n",
    "print(\"Star 2: \", star2(INPUT))"
   ]
  }
 ],
 "metadata": {
  "kernelspec": {
   "display_name": "Python 3",
   "language": "python",
   "name": "python3"
  },
  "language_info": {
   "codemirror_mode": {
    "name": "ipython",
    "version": 3
   },
   "file_extension": ".py",
   "mimetype": "text/x-python",
   "name": "python",
   "nbconvert_exporter": "python",
   "pygments_lexer": "ipython3",
   "version": "3.5.2"
  }
 },
 "nbformat": 4,
 "nbformat_minor": 0
}
