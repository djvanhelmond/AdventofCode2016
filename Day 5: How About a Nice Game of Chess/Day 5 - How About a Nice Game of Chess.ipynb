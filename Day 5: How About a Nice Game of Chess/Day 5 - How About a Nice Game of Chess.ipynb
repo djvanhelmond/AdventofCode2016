{
 "cells": [
  {
   "cell_type": "code",
   "execution_count": 1,
   "metadata": {
    "collapsed": true
   },
   "outputs": [],
   "source": [
    "#!/usr/local/bin/python3\n",
    "import hashlib"
   ]
  },
  {
   "cell_type": "code",
   "execution_count": 8,
   "metadata": {
    "collapsed": true
   },
   "outputs": [],
   "source": [
    "INPUT = \"ffykfhsq\""
   ]
  },
  {
   "cell_type": "code",
   "execution_count": 9,
   "metadata": {
    "collapsed": false
   },
   "outputs": [],
   "source": [
    "def get_hash(salt, i):\n",
    "    while True:\n",
    "        md5 = hashlib.md5()\n",
    "        md5.update((salt + str(i)).encode())\n",
    "        if (md5.hexdigest().startswith(\"00000\")):\n",
    "            return (md5.hexdigest(), i)\n",
    "        i += 1 "
   ]
  },
  {
   "cell_type": "code",
   "execution_count": 4,
   "metadata": {
    "collapsed": false
   },
   "outputs": [
    {
     "name": "stdout",
     "output_type": "stream",
     "text": [
      "Star 1:  c6697b55\n"
     ]
    }
   ],
   "source": [
    "def star1(salt):\n",
    "    i = 0\n",
    "    star1 = []\n",
    "    while (len(star1) < 8):\n",
    "        answer, i = get_hash(INPUT, i)\n",
    "        star1.append(answer[5])\n",
    "        i += 1\n",
    "    return ''.join(star1)\n",
    "\n",
    "print(\"Star 1: \", star1(INPUT))"
   ]
  },
  {
   "cell_type": "code",
   "execution_count": 15,
   "metadata": {
    "collapsed": false
   },
   "outputs": [
    {
     "name": "stdout",
     "output_type": "stream",
     "text": [
      "Star 2:  8c35d1ab\n"
     ]
    }
   ],
   "source": [
    "def star2(salt):\n",
    "    i = 0\n",
    "    star2 = [\"_\", \"_\", \"_\", \"_\", \"_\", \"_\", \"_\", \"_\"]\n",
    "    found = 0\n",
    "    while found < len(star2):\n",
    "        answer, i = get_hash(INPUT, i)\n",
    "        if (0 <= (ord(answer[5])-48) < len(star2)):\n",
    "            if (star2[int(answer[5])] == \"_\"):\n",
    "                star2[int(answer[5])] = (answer[6])\n",
    "                found += 1\n",
    "        i += 1\n",
    "    return ''.join(star2)\n",
    "\n",
    "print(\"Star 2: \", star2(INPUT))"
   ]
  },
  {
   "cell_type": "code",
   "execution_count": null,
   "metadata": {
    "collapsed": false
   },
   "outputs": [],
   "source": []
  },
  {
   "cell_type": "code",
   "execution_count": null,
   "metadata": {
    "collapsed": true
   },
   "outputs": [],
   "source": []
  }
 ],
 "metadata": {
  "kernelspec": {
   "display_name": "Python 3",
   "language": "python",
   "name": "python3"
  },
  "language_info": {
   "codemirror_mode": {
    "name": "ipython",
    "version": 3
   },
   "file_extension": ".py",
   "mimetype": "text/x-python",
   "name": "python",
   "nbconvert_exporter": "python",
   "pygments_lexer": "ipython3",
   "version": "3.5.2"
  }
 },
 "nbformat": 4,
 "nbformat_minor": 0
}
