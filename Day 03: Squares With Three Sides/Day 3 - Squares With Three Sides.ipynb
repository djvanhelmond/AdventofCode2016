{
 "cells": [
  {
   "cell_type": "code",
   "execution_count": 45,
   "metadata": {
    "collapsed": true
   },
   "outputs": [],
   "source": [
    "#!/usr/local/bin/python3"
   ]
  },
  {
   "cell_type": "code",
   "execution_count": 46,
   "metadata": {
    "collapsed": true
   },
   "outputs": [],
   "source": [
    "def read_input_moves(filename):\n",
    "    content = []\n",
    "    with open(filename) as input_file:\n",
    "        for lines in input_file:\n",
    "            content.append(lines)\n",
    "    return content"
   ]
  },
  {
   "cell_type": "code",
   "execution_count": 82,
   "metadata": {
    "collapsed": false
   },
   "outputs": [],
   "source": [
    "class Triangle:\n",
    "\n",
    "    def __init__(self, sides_list):\n",
    "        sides_list.sort()\n",
    "        self.short_side, self.mid_side, self.long_side = sides_list\n",
    "\n",
    "    def isvalid(self):\n",
    "        return ((self.short_side + self.mid_side) > self.long_side)\n"
   ]
  },
  {
   "cell_type": "code",
   "execution_count": 83,
   "metadata": {
    "collapsed": false
   },
   "outputs": [],
   "source": [
    "INPUT = (read_input_moves('./input'))\n",
    "# read the input file into a list"
   ]
  },
  {
   "cell_type": "code",
   "execution_count": 86,
   "metadata": {
    "collapsed": false
   },
   "outputs": [
    {
     "name": "stdout",
     "output_type": "stream",
     "text": [
      "Star 1:  869\n"
     ]
    }
   ],
   "source": [
    "def star1(triangle_list):\n",
    "    int_sides_list = []\n",
    "    for sides_list in triangle_list:\n",
    "        int_sides_list.append([int(i) for i in sides_list.split()])\n",
    "        \n",
    "    valid_triangles = []\n",
    "    for triangle_sides in int_sides_list:\n",
    "        triangle = Triangle(triangle_sides)\n",
    "        if triangle.isvalid():\n",
    "            valid_triangles.append(sides_list)\n",
    "    return len(valid_triangles)\n",
    "\n",
    "\n",
    "print(\"Star 1: \", star1(INPUT))"
   ]
  },
  {
   "cell_type": "code",
   "execution_count": 87,
   "metadata": {
    "collapsed": false
   },
   "outputs": [
    {
     "name": "stdout",
     "output_type": "stream",
     "text": [
      "Star 2:  1544\n"
     ]
    }
   ],
   "source": [
    "def rotate_3x3(three_element_list):\n",
    "    output = []\n",
    "    output.append([three_element_list[0][0], three_element_list[1][0], three_element_list[2][0]])\n",
    "    output.append([three_element_list[0][1], three_element_list[1][1], three_element_list[2][1]])\n",
    "    output.append([three_element_list[0][2], three_element_list[1][2], three_element_list[2][2]])\n",
    "    return output\n",
    "    \n",
    "    \n",
    "def star2(triangle_list):\n",
    "    int_sides_list = []\n",
    "    for sides_list in triangle_list:\n",
    "        int_sides_list.append([int(i) for i in sides_list.split()]) \n",
    "    \n",
    "    new_sides_list = []\n",
    "    while (len(int_sides_list) % 3 == 0) and (len(int_sides_list) > 0):\n",
    "        rot_list =[int_sides_list.pop(0), int_sides_list.pop(0), int_sides_list.pop(0)]\n",
    "        new_sides_list.extend(rotate_3x3(rot_list))\n",
    "        \n",
    "    valid_triangles = []\n",
    "    for triangle_sides in new_sides_list:\n",
    "        triangle = Triangle(triangle_sides)\n",
    "        if triangle.isvalid():\n",
    "            valid_triangles.append(sides_list)\n",
    "    return len(valid_triangles)\n",
    "    \n",
    "    \n",
    "print(\"Star 2: \", star2(INPUT))"
   ]
  },
  {
   "cell_type": "code",
   "execution_count": 70,
   "metadata": {
    "collapsed": true
   },
   "outputs": [],
   "source": []
  }
 ],
 "metadata": {
  "kernelspec": {
   "display_name": "Python 3",
   "language": "python",
   "name": "python3"
  },
  "language_info": {
   "codemirror_mode": {
    "name": "ipython",
    "version": 3
   },
   "file_extension": ".py",
   "mimetype": "text/x-python",
   "name": "python",
   "nbconvert_exporter": "python",
   "pygments_lexer": "ipython3",
   "version": "3.5.2"
  }
 },
 "nbformat": 4,
 "nbformat_minor": 0
}
