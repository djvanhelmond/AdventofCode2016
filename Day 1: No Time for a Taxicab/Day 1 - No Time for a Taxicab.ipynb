{
 "cells": [
  {
   "cell_type": "code",
   "execution_count": 106,
   "metadata": {
    "collapsed": true
   },
   "outputs": [],
   "source": [
    "#!/usr/bin/python3"
   ]
  },
  {
   "cell_type": "code",
   "execution_count": 129,
   "metadata": {
    "collapsed": true
   },
   "outputs": [],
   "source": [
    "class Santa:\n",
    "    def __init__(self):\n",
    "        self.x_coor = 0\n",
    "        self.y_coor = 0\n",
    "        self.orientation = 'N'\n",
    "\n",
    "    def porient(self):\n",
    "        return self.orientation\n",
    "\n",
    "    def ploc(self):\n",
    "        return [self.x_coor, self.y_coor]\n",
    "        \n",
    "    def pdist(self):\n",
    "        return self.x_coor+self.y_coor\n",
    "\n",
    "    def turn(self, direction):\n",
    "        if (direction == 'L'):\n",
    "            if self.orientation == 'N':\n",
    "                self.orientation = 'W'\n",
    "            elif self.orientation == 'W':\n",
    "                self.orientation = 'S'\n",
    "            elif self.orientation == 'S':\n",
    "                self.orientation = 'E'\n",
    "            elif self.orientation == 'E':\n",
    "                self.orientation = 'N'\n",
    "        if (direction == 'R'):\n",
    "            if self.orientation == 'N':\n",
    "                self.orientation = 'E'\n",
    "            elif self.orientation == 'E':\n",
    "                self.orientation = 'S'\n",
    "            elif self.orientation == 'S':\n",
    "                self.orientation = 'W'\n",
    "            elif self.orientation == 'W':\n",
    "                self.orientation = 'N'\n",
    "\n",
    "    def take_step(self, steps):\n",
    "        if self.orientation == 'N':\n",
    "            self.y_coor = self.y_coor + steps            \n",
    "        elif self.orientation == 'E':\n",
    "            self.x_coor = self.x_coor + steps            \n",
    "        elif self.orientation == 'S':\n",
    "            self.y_coor = self.y_coor - steps            \n",
    "        elif self.orientation == 'W':\n",
    "            self.x_coor = self.x_coor - steps            \n"
   ]
  },
  {
   "cell_type": "code",
   "execution_count": 130,
   "metadata": {
    "collapsed": false
   },
   "outputs": [],
   "source": [
    "def read_input_moves(filename):\n",
    "    with open(filename) as f:\n",
    "        for lines in f:\n",
    "            moves = lines.replace(',','').split()\n",
    "    return moves"
   ]
  },
  {
   "cell_type": "code",
   "execution_count": 131,
   "metadata": {
    "collapsed": true
   },
   "outputs": [],
   "source": [
    "moves = (read_input_moves('./input'))"
   ]
  },
  {
   "cell_type": "code",
   "execution_count": 132,
   "metadata": {
    "collapsed": false
   },
   "outputs": [],
   "source": [
    "santa = Santa()\n",
    "\n",
    "for m in moves:\n",
    "    santa.turn(m[0])\n",
    "    santa.take_step(int(m[1:]))"
   ]
  },
  {
   "cell_type": "code",
   "execution_count": 134,
   "metadata": {
    "collapsed": false
   },
   "outputs": [
    {
     "name": "stdout",
     "output_type": "stream",
     "text": [
      "S\n",
      "[169, 102]\n",
      "271\n"
     ]
    }
   ],
   "source": [
    "print(santa.porient())\n",
    "print(santa.ploc())\n",
    "print(santa.pdist())"
   ]
  }
 ],
 "metadata": {
  "kernelspec": {
   "display_name": "Python 3",
   "language": "python",
   "name": "python3"
  },
  "language_info": {
   "codemirror_mode": {
    "name": "ipython",
    "version": 3
   },
   "file_extension": ".py",
   "mimetype": "text/x-python",
   "name": "python",
   "nbconvert_exporter": "python",
   "pygments_lexer": "ipython3",
   "version": "3.5.2"
  }
 },
 "nbformat": 4,
 "nbformat_minor": 0
}
