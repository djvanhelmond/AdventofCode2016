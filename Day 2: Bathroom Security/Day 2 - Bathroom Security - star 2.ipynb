{
 "cells": [
  {
   "cell_type": "code",
   "execution_count": 68,
   "metadata": {
    "collapsed": true
   },
   "outputs": [],
   "source": [
    "#!/usr/bin/python3"
   ]
  },
  {
   "cell_type": "code",
   "execution_count": 69,
   "metadata": {
    "collapsed": true
   },
   "outputs": [],
   "source": [
    "def read_input_moves(filename):\n",
    "    moves = []\n",
    "    with open(filename) as f:\n",
    "        for lines in f:\n",
    "            moves.append(lines)\n",
    "    return moves"
   ]
  },
  {
   "cell_type": "code",
   "execution_count": 70,
   "metadata": {
    "collapsed": false
   },
   "outputs": [],
   "source": [
    "class KeyPad:\n",
    "    \n",
    "    #    0 1 2 3 4    \n",
    "    # 0      1\n",
    "    # 1    2 3 4\n",
    "    # 2  5 6 7 8 9\n",
    "    # 3    A B C\n",
    "    # 4      D\n",
    "\n",
    "    def __init__(self):\n",
    "        self.keys = [\"XX1XX\",\n",
    "                     \"X234X\",\n",
    "                     \"56789\",\n",
    "                     \"XABCX\",\n",
    "                     \"XXDXX\",\n",
    "               ]\n",
    "        self.finger_on_button = [0,2]\n",
    "\n",
    "    def p_value(self):\n",
    "        return (self.keys[self.finger_on_button[1]][self.finger_on_button[0]])\n",
    "\n",
    "    def move(self, direction):\n",
    "        if direction in 'UDLR':\n",
    "            if direction == \"U\":\n",
    "                self.move_up()\n",
    "            elif direction == \"D\":\n",
    "                self.move_down()\n",
    "            elif direction == \"L\":\n",
    "                self.move_left()\n",
    "            elif direction == \"R\":\n",
    "                self.move_right()\n",
    "\n",
    "    def move_up(self):\n",
    "        if (self.finger_on_button[0] == 1) or (self.finger_on_button[0] == 3):\n",
    "            self.finger_on_button[1] = min(3, max(1, self.finger_on_button[1] - 1))\n",
    "        if (self.finger_on_button[0] == 2):\n",
    "            self.finger_on_button[1] = min(4, max(0, self.finger_on_button[1] - 1))\n",
    "\n",
    "    def move_down(self):\n",
    "        if (self.finger_on_button[0] == 1) or (self.finger_on_button[0] == 3):\n",
    "            self.finger_on_button[1] = max(1, min(3, self.finger_on_button[1] + 1))\n",
    "        if (self.finger_on_button[0] == 2):\n",
    "            self.finger_on_button[1] = max(0, min(4, self.finger_on_button[1] + 1))\n",
    "\n",
    "    def move_left(self):\n",
    "        if (self.finger_on_button[1] == 1) or (self.finger_on_button[1] == 3):\n",
    "            self.finger_on_button[0] = min(3, max(1, self.finger_on_button[0] - 1))\n",
    "        if (self.finger_on_button[1] == 2):\n",
    "            self.finger_on_button[0] = min(4, max(0, self.finger_on_button[0] - 1))\n",
    "\n",
    "    def move_right(self):\n",
    "        if (self.finger_on_button[1] == 1) or (self.finger_on_button[1] == 3):\n",
    "            self.finger_on_button[0] = max(1, min(3, self.finger_on_button[0] + 1))\n",
    "        if (self.finger_on_button[1] == 2):\n",
    "            self.finger_on_button[0] = max(0, min(4, self.finger_on_button[0] + 1))\n"
   ]
  },
  {
   "cell_type": "code",
   "execution_count": 71,
   "metadata": {
    "collapsed": false
   },
   "outputs": [],
   "source": [
    "moves = (read_input_moves('./input'))\n",
    "# read the input file into a list"
   ]
  },
  {
   "cell_type": "code",
   "execution_count": 72,
   "metadata": {
    "collapsed": false
   },
   "outputs": [
    {
     "name": "stdout",
     "output_type": "stream",
     "text": [
      "9\n",
      "9\n",
      "C\n",
      "3\n",
      "D\n"
     ]
    }
   ],
   "source": [
    "keypad = KeyPad()\n",
    "# create a keypad object\n",
    "\n",
    "for i in moves:\n",
    "    for char in i:\n",
    "        keypad.move(char)\n",
    "    print(keypad.p_value())\n"
   ]
  },
  {
   "cell_type": "code",
   "execution_count": null,
   "metadata": {
    "collapsed": true
   },
   "outputs": [],
   "source": []
  }
 ],
 "metadata": {
  "kernelspec": {
   "display_name": "Python 3",
   "language": "python",
   "name": "python3"
  },
  "language_info": {
   "codemirror_mode": {
    "name": "ipython",
    "version": 3
   },
   "file_extension": ".py",
   "mimetype": "text/x-python",
   "name": "python",
   "nbconvert_exporter": "python",
   "pygments_lexer": "ipython3",
   "version": "3.5.2"
  }
 },
 "nbformat": 4,
 "nbformat_minor": 0
}
