{
 "cells": [
  {
   "cell_type": "code",
   "execution_count": 3,
   "metadata": {
    "collapsed": true
   },
   "outputs": [],
   "source": [
    "#!/usr/bin/python3"
   ]
  },
  {
   "cell_type": "code",
   "execution_count": 4,
   "metadata": {
    "collapsed": true
   },
   "outputs": [],
   "source": [
    "def read_input_moves(filename):\n",
    "    moves = []\n",
    "    with open(filename) as f:\n",
    "        for lines in f:\n",
    "            moves.append(lines)\n",
    "    return moves"
   ]
  },
  {
   "cell_type": "code",
   "execution_count": 12,
   "metadata": {
    "collapsed": false
   },
   "outputs": [],
   "source": [
    "class KeyPad:\n",
    "\n",
    "    def __init__(self, padlayout, startbutton):\n",
    "        self.keys = padlayout\n",
    "        self.finger_on_button = startbutton\n",
    "\n",
    "    def p_value(self):\n",
    "        return self.keys[self.finger_on_button[1]][self.finger_on_button[0]]\n",
    "    \n",
    "    def p_code(self, input_moves):\n",
    "        code = []\n",
    "        for i in input_moves:\n",
    "            for char in i:\n",
    "                self.move(char)\n",
    "            code.append(self.p_value())\n",
    "        return ''.join(code)\n",
    "\n",
    "    def move(self, direction):\n",
    "        if direction in 'UDLR':\n",
    "            if direction == \"U\":\n",
    "                self.move_up()\n",
    "            elif direction == \"D\":\n",
    "                self.move_down()\n",
    "            elif direction == \"L\":\n",
    "                self.move_left()\n",
    "            elif direction == \"R\":\n",
    "                self.move_right()\n",
    "\n",
    "    def move_up(self):\n",
    "        if self.keys[self.finger_on_button[1]-1][self.finger_on_button[0]] != \"X\":\n",
    "            self.finger_on_button[1] = self.finger_on_button[1] - 1\n",
    "\n",
    "    def move_down(self):\n",
    "        if self.keys[self.finger_on_button[1]+1][self.finger_on_button[0]] != \"X\":\n",
    "            self.finger_on_button[1] = self.finger_on_button[1] + 1\n",
    "\n",
    "    def move_left(self):\n",
    "        if self.keys[self.finger_on_button[1]][self.finger_on_button[0]-1] != \"X\":\n",
    "            self.finger_on_button[0] = self.finger_on_button[0] - 1\n",
    "\n",
    "    def move_right(self):\n",
    "        if self.keys[self.finger_on_button[1]][self.finger_on_button[0]+1] != \"X\":\n",
    "            self.finger_on_button[0] = self.finger_on_button[0] + 1\n",
    "\n"
   ]
  },
  {
   "cell_type": "code",
   "execution_count": 13,
   "metadata": {
    "collapsed": false
   },
   "outputs": [],
   "source": [
    "moves = (read_input_moves('./input'))\n",
    "# read the input file into a list"
   ]
  },
  {
   "cell_type": "code",
   "execution_count": 19,
   "metadata": {
    "collapsed": false
   },
   "outputs": [
    {
     "name": "stdout",
     "output_type": "stream",
     "text": [
      "Star 1:  36629\n"
     ]
    }
   ],
   "source": [
    "def star1(moves):\n",
    "    padlayout = [\"XXXXX\",\n",
    "                 \"X123X\",\n",
    "                 \"X456X\",\n",
    "                 \"X789X\",\n",
    "                 \"XXXXX\",\n",
    "                ]\n",
    "    startbutton = [2, 2]\n",
    "\n",
    "    keypad = KeyPad(padlayout, startbutton)\n",
    "    return keypad.p_code(moves)\n",
    "\n",
    "print(\"Star 1: \", star1(moves))"
   ]
  },
  {
   "cell_type": "code",
   "execution_count": 20,
   "metadata": {
    "collapsed": false
   },
   "outputs": [
    {
     "name": "stdout",
     "output_type": "stream",
     "text": [
      "Star 2:  99C3D\n"
     ]
    }
   ],
   "source": [
    "def star2(moves):\n",
    "    padlayout = [\"XXXXXXX\",\n",
    "                 \"XXX1XXX\",\n",
    "                 \"XX234XX\",\n",
    "                 \"X56789X\",\n",
    "                 \"XXABCXX\",\n",
    "                 \"XXXDXXX\",\n",
    "                 \"XXXXXXX\",\n",
    "                ]\n",
    "    startbutton = [1, 3]\n",
    "    keypad = KeyPad(padlayout, startbutton)\n",
    "    return keypad.p_code(moves)\n",
    "\n",
    "print(\"Star 2: \", star2(moves))"
   ]
  },
  {
   "cell_type": "code",
   "execution_count": null,
   "metadata": {
    "collapsed": true
   },
   "outputs": [],
   "source": []
  }
 ],
 "metadata": {
  "kernelspec": {
   "display_name": "Python 3",
   "language": "python",
   "name": "python3"
  },
  "language_info": {
   "codemirror_mode": {
    "name": "ipython",
    "version": 3
   },
   "file_extension": ".py",
   "mimetype": "text/x-python",
   "name": "python",
   "nbconvert_exporter": "python",
   "pygments_lexer": "ipython3",
   "version": "3.5.2"
  }
 },
 "nbformat": 4,
 "nbformat_minor": 0
}
