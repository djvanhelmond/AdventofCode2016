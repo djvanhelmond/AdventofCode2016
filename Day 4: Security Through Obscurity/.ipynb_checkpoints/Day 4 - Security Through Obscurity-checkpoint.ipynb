{
 "cells": [
  {
   "cell_type": "code",
   "execution_count": 440,
   "metadata": {
    "collapsed": true
   },
   "outputs": [],
   "source": [
    "#!/usr/local/bin/python3\n",
    "import re\n",
    "from collections import Counter"
   ]
  },
  {
   "cell_type": "code",
   "execution_count": 441,
   "metadata": {
    "collapsed": true
   },
   "outputs": [],
   "source": [
    "def read_input_moves(filename):\n",
    "    content = []\n",
    "    with open(filename) as input_file:\n",
    "        for lines in input_file:\n",
    "            content.append(lines)\n",
    "    return content"
   ]
  },
  {
   "cell_type": "code",
   "execution_count": 442,
   "metadata": {
    "collapsed": false
   },
   "outputs": [],
   "source": [
    "INPUT = (read_input_moves('./input'))\n",
    "# read the input file into a list"
   ]
  },
  {
   "cell_type": "code",
   "execution_count": 448,
   "metadata": {
    "collapsed": false
   },
   "outputs": [],
   "source": [
    "class room_id:\n",
    "    def __init__(self, roomID):\n",
    "        self.roomID = roomID\n",
    "        re_match = re.match(r\"(?P<roomname>[a-z\\-]*)(?P<sectorID>[0-9]*)\\[(?P<checksum>[a-z]*)\\]\", roomID)\n",
    "        self.roomname = re_match.group('roomname')\n",
    "        self.sectorID = int(re_match.group('sectorID'))\n",
    "        self.checksum = re_match.group('checksum')\n",
    "\n",
    "    def printID(self):\n",
    "        print(\"name: \", self.roomname)\n",
    "        print(\"sector: \", self.sectorID)\n",
    "        print(\"checksum: \", self.checksum)\n",
    "\n",
    "    def calc_checksum(self):\n",
    "        z = Counter(list(self.roomname.replace(\"-\", \"\"))).most_common()\n",
    "        full_cs = []\n",
    "        while (len(z) != 0):            \n",
    "            most = z[0][1]\n",
    "            chars = []\n",
    "            while (len(z) != 0) and (z[0][1] == most):\n",
    "                chars.append(z.pop(0)[0])\n",
    "            chars.sort()    \n",
    "            full_cs.extend(chars)\n",
    "        return ''.join(full_cs)[0:5]\n",
    "\n",
    "    def isreal(self):\n",
    "        return (self.checksum == self.calc_checksum())\n",
    "\n",
    "    def get_sectorID(self):\n",
    "        return (self.sectorID)\n",
    "    \n",
    "    def decrypt_roomname(self):\n",
    "        dec_name = []\n",
    "        for c in list(self.roomname):\n",
    "            if c == \"-\":\n",
    "                dec_name.append(\" \")\n",
    "            else:    \n",
    "                i = 0\n",
    "                while (self.sectorID - i) != 0:\n",
    "                    c = self.increase_char(c)\n",
    "                    i = i + 1\n",
    "                dec_name.append(c)\n",
    "        return ''.join(dec_name)\n",
    "        \n",
    "    def increase_char(self, char):\n",
    "        if char == \"z\":\n",
    "            return \"a\"\n",
    "        return chr(ord(char)+1)"
   ]
  },
  {
   "cell_type": "code",
   "execution_count": 449,
   "metadata": {
    "collapsed": false
   },
   "outputs": [
    {
     "name": "stdout",
     "output_type": "stream",
     "text": [
      "Star 1:  409147\n"
     ]
    }
   ],
   "source": [
    "def star1(source_roomID_list):\n",
    "    sec_sum = 0\n",
    "    roomID_list = [room_id(room) for room in source_roomID_list]\n",
    "    for room in roomID_list:\n",
    "        if room.isreal():\n",
    "            sec_sum = sec_sum + room.get_sectorID()\n",
    "    return sec_sum\n",
    "\n",
    "\n",
    "print(\"Star 1: \", star1(INPUT))"
   ]
  },
  {
   "cell_type": "code",
   "execution_count": 457,
   "metadata": {
    "collapsed": false
   },
   "outputs": [
    {
     "name": "stdout",
     "output_type": "stream",
     "text": [
      "Star 2:  991\n"
     ]
    }
   ],
   "source": [
    "def star2(source_roomID_list):\n",
    "    roomID_list = [room_id(room) for room in source_roomID_list]\n",
    "    for room in roomID_list:\n",
    "        if room.isreal():\n",
    "            if re.match(r\"(north[a-z\\-]*)\", room.decrypt_roomname()):\n",
    "                return room.get_sectorID()\n",
    "\n",
    "\n",
    "print(\"Star 2: \", star2(INPUT))"
   ]
  },
  {
   "cell_type": "code",
   "execution_count": 70,
   "metadata": {
    "collapsed": true
   },
   "outputs": [],
   "source": []
  }
 ],
 "metadata": {
  "kernelspec": {
   "display_name": "Python 3",
   "language": "python",
   "name": "python3"
  },
  "language_info": {
   "codemirror_mode": {
    "name": "ipython",
    "version": 3
   },
   "file_extension": ".py",
   "mimetype": "text/x-python",
   "name": "python",
   "nbconvert_exporter": "python",
   "pygments_lexer": "ipython3",
   "version": "3.5.2"
  }
 },
 "nbformat": 4,
 "nbformat_minor": 0
}
