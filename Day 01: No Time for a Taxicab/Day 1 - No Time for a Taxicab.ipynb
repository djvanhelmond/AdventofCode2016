{
 "cells": [
  {
   "cell_type": "code",
   "execution_count": 299,
   "metadata": {
    "collapsed": true
   },
   "outputs": [],
   "source": [
    "#!/usr/bin/python3"
   ]
  },
  {
   "cell_type": "code",
   "execution_count": 300,
   "metadata": {
    "collapsed": true
   },
   "outputs": [],
   "source": [
    "class Santa:\n",
    "    def __init__(self):\n",
    "        self.x_coor = 0\n",
    "        self.y_coor = 0\n",
    "        self.orientation = 'N'\n",
    "        \n",
    "    def porient(self):\n",
    "        return self.orientation\n",
    "\n",
    "    def ploc(self):\n",
    "        return (self.x_coor, self.y_coor)\n",
    "        \n",
    "    def pdist(self):\n",
    "        return abs(self.x_coor)+abs(self.y_coor)\n",
    "\n",
    "    def turn(self, direction):\n",
    "        if (direction == 'L'):\n",
    "            if self.orientation == 'N':\n",
    "                self.orientation = 'W'\n",
    "            elif self.orientation == 'W':\n",
    "                self.orientation = 'S'\n",
    "            elif self.orientation == 'S':\n",
    "                self.orientation = 'E'\n",
    "            elif self.orientation == 'E':\n",
    "                self.orientation = 'N'\n",
    "        if (direction == 'R'):\n",
    "            if self.orientation == 'N':\n",
    "                self.orientation = 'E'\n",
    "            elif self.orientation == 'E':\n",
    "                self.orientation = 'S'\n",
    "            elif self.orientation == 'S':\n",
    "                self.orientation = 'W'\n",
    "            elif self.orientation == 'W':\n",
    "                self.orientation = 'N'\n",
    "\n",
    "    def take_step(self, steps):\n",
    "        if self.orientation == 'N':\n",
    "            while steps != 0:\n",
    "                self.y_coor = self.y_coor + 1\n",
    "                streets.add_point(self.ploc())\n",
    "                steps -= 1\n",
    "        elif self.orientation == 'E':\n",
    "            while steps != 0:\n",
    "                self.x_coor = self.x_coor + 1\n",
    "                streets.add_point(self.ploc())\n",
    "                steps -= 1\n",
    "        elif self.orientation == 'S':\n",
    "            while steps != 0:\n",
    "                self.y_coor = self.y_coor - 1\n",
    "                streets.add_point(self.ploc())\n",
    "                steps -= 1\n",
    "        elif self.orientation == 'W':\n",
    "            while steps != 0:\n",
    "                self.x_coor = self.x_coor - 1\n",
    "                streets.add_point(self.ploc())\n",
    "                steps -= 1\n",
    "\n"
   ]
  },
  {
   "cell_type": "code",
   "execution_count": 311,
   "metadata": {
    "collapsed": true
   },
   "outputs": [],
   "source": [
    "class Streets:\n",
    "    def __init__(self):\n",
    "        self.points = dict()\n",
    "        self.points[(0,0)] = 1\n",
    "        self.hqfound = False\n",
    "\n",
    "    def add_point(self,point):\n",
    "        if point in self.points:\n",
    "            if not(self.hqfound):\n",
    "                print (\"Star 2: HQ FOUND at distance\", santa.pdist())\n",
    "            self.hqfound = True\n",
    "            self.points[point] += 1\n",
    "        else:\n",
    "            self.points[point] = 1"
   ]
  },
  {
   "cell_type": "code",
   "execution_count": 312,
   "metadata": {
    "collapsed": false
   },
   "outputs": [],
   "source": [
    "def read_input_moves(filename):\n",
    "    with open(filename) as f:\n",
    "        for lines in f:\n",
    "            moves = lines.replace(',','').split()\n",
    "    return moves"
   ]
  },
  {
   "cell_type": "code",
   "execution_count": 313,
   "metadata": {
    "collapsed": true
   },
   "outputs": [],
   "source": [
    "moves = (read_input_moves('./input'))"
   ]
  },
  {
   "cell_type": "code",
   "execution_count": 314,
   "metadata": {
    "collapsed": false
   },
   "outputs": [
    {
     "name": "stdout",
     "output_type": "stream",
     "text": [
      "Star 2: HQ FOUND at distance 153\n"
     ]
    }
   ],
   "source": [
    "santa = Santa()\n",
    "streets = Streets()\n",
    "\n",
    "for m in moves:\n",
    "    santa.turn(m[0])\n",
    "    santa.take_step(int(m[1:]))"
   ]
  },
  {
   "cell_type": "code",
   "execution_count": 316,
   "metadata": {
    "collapsed": false
   },
   "outputs": [
    {
     "name": "stdout",
     "output_type": "stream",
     "text": [
      "Star 1: HQ FOUND at distance 271\n"
     ]
    }
   ],
   "source": [
    "#print(santa.porient())\n",
    "#print(santa.ploc())\n",
    "print (\"Star 1: HQ FOUND at distance\", santa.pdist())"
   ]
  },
  {
   "cell_type": "code",
   "execution_count": null,
   "metadata": {
    "collapsed": true
   },
   "outputs": [],
   "source": []
  }
 ],
 "metadata": {
  "kernelspec": {
   "display_name": "Python 3",
   "language": "python",
   "name": "python3"
  },
  "language_info": {
   "codemirror_mode": {
    "name": "ipython",
    "version": 3
   },
   "file_extension": ".py",
   "mimetype": "text/x-python",
   "name": "python",
   "nbconvert_exporter": "python",
   "pygments_lexer": "ipython3",
   "version": "3.5.2"
  }
 },
 "nbformat": 4,
 "nbformat_minor": 0
}
